{
 "cells": [
  {
   "cell_type": "code",
   "execution_count": 1,
   "metadata": {},
   "outputs": [],
   "source": [
    "from bs4 import BeautifulSoup\n",
    "import requests"
   ]
  },
  {
   "cell_type": "code",
   "execution_count": 2,
   "metadata": {},
   "outputs": [],
   "source": [
    "#MARS NEWS\n",
    "#================================================\n",
    "url = 'https://mars.nasa.gov/news/'\n",
    "response = requests.get(url, allow_redirects=True)\n",
    "soup = BeautifulSoup(response.text, 'html.parser')\n",
    "\n",
    "#Give me all the news article slides\n",
    "scraped_slides = soup.find_all(\"div\", {'class':'slide'})"
   ]
  },
  {
   "cell_type": "code",
   "execution_count": 3,
   "metadata": {},
   "outputs": [],
   "source": [
    "#Refine and store all the article titles and brief summaries into mars_news \n",
    "mars_news = []\n",
    "for slide in scraped_slides:\n",
    "    title = slide.find('div', {'class':'content_title'}).find('a').text.strip()\n",
    "    content = slide.find('div', {'class':'rollover_description_inner'}).text.strip()\n",
    "    item = {'title': title, 'content': content}\n",
    "    mars_news.append(item)"
   ]
  },
  {
   "cell_type": "code",
   "execution_count": 4,
   "metadata": {},
   "outputs": [],
   "source": [
    "#JPL Featured Space Image\n",
    "#================================================\n",
    "from splinter import Browser\n",
    "executable_path = {'executable_path': '/usr/local/bin/chromedriver'}\n",
    "browser = Browser('chrome', **executable_path, headless=False)"
   ]
  },
  {
   "cell_type": "code",
   "execution_count": 5,
   "metadata": {},
   "outputs": [],
   "source": [
    "#go to the website\n",
    "url = 'https://www.jpl.nasa.gov/spaceimages/?search=&category=Mars'\n",
    "browser.visit(url) "
   ]
  },
  {
   "cell_type": "code",
   "execution_count": 6,
   "metadata": {},
   "outputs": [],
   "source": [
    "#click click click to find full image\n",
    "browser.click_link_by_partial_text('FULL')\n",
    "import time\n",
    "time.sleep(3)\n",
    "browser.click_link_by_partial_text('more info')"
   ]
  },
  {
   "cell_type": "code",
   "execution_count": 7,
   "metadata": {},
   "outputs": [],
   "source": [
    "#Get that URL\n",
    "html = browser.html\n",
    "soup = BeautifulSoup(html, 'html.parser')\n",
    "img_src = soup.find('img',{'class':\"main_image\"})['src']\n",
    "featured_image_url = \"https://www.jpl.nasa.gov\" + img_src"
   ]
  },
  {
   "cell_type": "code",
   "execution_count": 8,
   "metadata": {},
   "outputs": [],
   "source": [
    "#MARS WEATHER\n",
    "#================================================\n",
    "url = 'https://twitter.com/marswxreport?lang=en/'\n",
    "response = requests.get(url, allow_redirects=True)\n",
    "soup = BeautifulSoup(response.text, 'html.parser')"
   ]
  },
  {
   "cell_type": "code",
   "execution_count": 9,
   "metadata": {},
   "outputs": [],
   "source": [
    "#Get me the tweet with the latest weather\n",
    "import re\n",
    "mars_weather = soup.find(text=re.compile(r\"InSight sol\"))"
   ]
  },
  {
   "cell_type": "code",
   "execution_count": 10,
   "metadata": {},
   "outputs": [],
   "source": [
    "#MARS FACTS\n",
    "#================================================\n",
    "import pandas as pd\n",
    "url = 'https://space-facts.com/mars/'\n",
    "tables = pd.read_html(url)"
   ]
  },
  {
   "cell_type": "code",
   "execution_count": 11,
   "metadata": {},
   "outputs": [],
   "source": [
    "mars_facts = tables[1]"
   ]
  },
  {
   "cell_type": "code",
   "execution_count": 12,
   "metadata": {},
   "outputs": [],
   "source": [
    "#MARS HEMISPHERES\n",
    "#================================================\n",
    "hemisphere_image_urls = []\n",
    "url='https://astrogeology.usgs.gov/search/results?q=hemisphere+enhanced&k1=target&v1=Mars'\n",
    "browser.visit(url) \n",
    "time.sleep(1)"
   ]
  },
  {
   "cell_type": "code",
   "execution_count": 13,
   "metadata": {},
   "outputs": [],
   "source": [
    "hemispheres = ['Cerberus','Schiaparelli','Syrtis','Valles']\n",
    "hemisphere_image_urls = []\n",
    "\n",
    "#Lets go! Run the loop and get all the goodies\n",
    "browser.visit(url) \n",
    "for hemisphere in hemispheres:\n",
    "    browser.click_link_by_partial_text(hemisphere)\n",
    "    html = browser.html\n",
    "    soup = BeautifulSoup(html, 'html.parser')\n",
    "    title = soup.find('h2').text\n",
    "    img_url = soup.find('a',text=re.compile(r\"Sample\"))['href']\n",
    "    found = {'title':title, 'img_url':img_url}\n",
    "    hemisphere_image_urls.append(found)\n",
    "    browser.back()\n",
    "    time.sleep(1)"
   ]
  },
  {
   "cell_type": "code",
   "execution_count": 18,
   "metadata": {},
   "outputs": [
    {
     "data": {
      "text/plain": [
       "[{'title': 'Cerberus Hemisphere Enhanced',\n",
       "  'img_url': 'http://astropedia.astrogeology.usgs.gov/download/Mars/Viking/cerberus_enhanced.tif/full.jpg'},\n",
       " {'title': 'Schiaparelli Hemisphere Enhanced',\n",
       "  'img_url': 'http://astropedia.astrogeology.usgs.gov/download/Mars/Viking/schiaparelli_enhanced.tif/full.jpg'},\n",
       " {'title': 'Syrtis Major Hemisphere Enhanced',\n",
       "  'img_url': 'http://astropedia.astrogeology.usgs.gov/download/Mars/Viking/syrtis_major_enhanced.tif/full.jpg'},\n",
       " {'title': 'Valles Marineris Hemisphere Enhanced',\n",
       "  'img_url': 'http://astropedia.astrogeology.usgs.gov/download/Mars/Viking/valles_marineris_enhanced.tif/full.jpg'}]"
      ]
     },
     "execution_count": 18,
     "metadata": {},
     "output_type": "execute_result"
    }
   ],
   "source": [
    "# mars_news\n",
    "# featured_image_url\n",
    "# mars_weather\n",
    "# mars_facts\n",
    "# hemisphere_image_urls"
   ]
  }
 ],
 "metadata": {
  "kernelspec": {
   "display_name": "Python 3",
   "language": "python",
   "name": "python3"
  },
  "language_info": {
   "codemirror_mode": {
    "name": "ipython",
    "version": 3
   },
   "file_extension": ".py",
   "mimetype": "text/x-python",
   "name": "python",
   "nbconvert_exporter": "python",
   "pygments_lexer": "ipython3",
   "version": "3.6.8"
  }
 },
 "nbformat": 4,
 "nbformat_minor": 2
}
